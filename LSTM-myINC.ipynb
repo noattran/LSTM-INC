{
  "nbformat": 4,
  "nbformat_minor": 0,
  "metadata": {
    "colab": {
      "provenance": [],
      "include_colab_link": true
    },
    "kernelspec": {
      "name": "python3",
      "display_name": "Python 3"
    },
    "accelerator": "GPU"
  },
  "cells": [
    {
      "cell_type": "markdown",
      "metadata": {
        "id": "view-in-github",
        "colab_type": "text"
      },
      "source": [
        "<a href=\"https://colab.research.google.com/github/noattran/LSTM-INC/blob/main/LSTM-myINC.ipynb\" target=\"_parent\"><img src=\"https://colab.research.google.com/assets/colab-badge.svg\" alt=\"Open In Colab\"/></a>"
      ]
    },
    {
      "cell_type": "markdown",
      "metadata": {
        "id": "Hjgu5lP053B3"
      },
      "source": [
        "## **Import Libraries**"
      ]
    },
    {
      "cell_type": "code",
      "metadata": {
        "id": "ILklj-sP0Vvb"
      },
      "source": [
        "from numpy import array\n",
        "from tensorflow.keras.preprocessing.text import one_hot\n",
        "from tensorflow.keras.preprocessing.sequence import pad_sequences\n",
        "from tensorflow.keras.models import Sequential\n",
        "from tensorflow.keras.layers import Activation, Dropout, Dense\n",
        "from tensorflow.keras.layers import Flatten, LSTM, Conv1D, RNN, SimpleRNN\n",
        "from tensorflow.keras.layers import GlobalMaxPooling1D, Bidirectional\n",
        "from tensorflow.keras.models import Model\n",
        "from tensorflow.keras.layers import Embedding\n",
        "from sklearn.model_selection import train_test_split\n",
        "from tensorflow.keras.preprocessing.text import Tokenizer\n",
        "from tensorflow.keras.layers import Input\n",
        "from tensorflow.keras.layers import Concatenate\n",
        "from tensorflow.keras.layers import Bidirectional\n",
        "from sklearn import preprocessing\n",
        "from tensorflow.keras import regularizers\n",
        "from sklearn.metrics import mean_squared_error\n",
        "from math import sqrt\n",
        "import pandas as pd\n",
        "import numpy as np\n",
        "import re\n",
        "from tensorflow.keras.utils import plot_model\n",
        "from tensorflow.keras import regularizers\n",
        "import matplotlib.pyplot as plt\n",
        "import math\n",
        "from scipy.io import loadmat\n",
        "import time"
      ],
      "execution_count": 4,
      "outputs": []
    },
    {
      "cell_type": "code",
      "source": [
        "from google.colab import drive\n",
        "drive.mount('/content/drive/')"
      ],
      "metadata": {
        "id": "mNn1PMIxPcaE",
        "outputId": "0dfc5823-8fab-4b5e-8d92-66e6d934872a",
        "colab": {
          "base_uri": "https://localhost:8080/"
        }
      },
      "execution_count": 2,
      "outputs": [
        {
          "output_type": "stream",
          "name": "stdout",
          "text": [
            "Drive already mounted at /content/drive/; to attempt to forcibly remount, call drive.mount(\"/content/drive/\", force_remount=True).\n"
          ]
        }
      ]
    },
    {
      "cell_type": "markdown",
      "metadata": {
        "id": "gr46ZFnz6CeV"
      },
      "source": [
        "## **Import Data**"
      ]
    },
    {
      "cell_type": "code",
      "metadata": {
        "id": "kdQMTnr01vzU",
        "outputId": "fd03c461-0389-4a0e-d504-cef82f17cc57",
        "colab": {
          "base_uri": "https://localhost:8080/"
        }
      },
      "source": [
        "path = r'/content/drive/MyDrive/MyStudy/NCS/VNU/01-2023/MyJournal/202412-EAI CanTho/dataset/file_data_1.csv'\n",
        "df = pd.read_csv(path)\n",
        "df.head()\n",
        "data1=np.array(df)\n",
        "print(data1.shape)\n",
        "data=data1[0:data1.shape[0],:]\n",
        "print(data.shape)"
      ],
      "execution_count": 7,
      "outputs": [
        {
          "output_type": "stream",
          "name": "stdout",
          "text": [
            "(466866, 47)\n",
            "(466866, 47)\n"
          ]
        }
      ]
    },
    {
      "cell_type": "code",
      "metadata": {
        "id": "KMLJrfRz5HYW"
      },
      "source": [
        "dataX = data[:,0:45];\n",
        "dataY = data[:,46]\n",
        "\n",
        "min_max_scaler = preprocessing.MinMaxScaler()\n",
        "dataX = min_max_scaler.fit_transform(dataX)"
      ],
      "execution_count": 18,
      "outputs": []
    },
    {
      "cell_type": "markdown",
      "metadata": {
        "id": "RAIVh6yj6HWs"
      },
      "source": [
        "## **Split Training and Testing Data**"
      ]
    },
    {
      "cell_type": "code",
      "metadata": {
        "id": "WU559GbH2BVd",
        "outputId": "922d936b-af44-4b6a-a266-5dbcf3b35901",
        "colab": {
          "base_uri": "https://localhost:8080/"
        }
      },
      "source": [
        "split = 373492\n",
        "dataXt = dataX[:split] #Training Data\n",
        "dataYt = dataY[:split]\n",
        "dataXv = dataX[split:] #Validation Data\n",
        "dataYv = dataY[split:]\n",
        "\n",
        "input_dim = dataXt.shape[1]\n",
        "\n",
        "print(\"input_dim:\", input_dim)\n",
        "print(\"\\nTraining Testing\")\n",
        "print(dataXt.shape[0],dataXv.shape[0])\n",
        "\n",
        "timestep = 1\n",
        "Xphithetapsi = dataXt\n",
        "Xphithetapsi = array(Xphithetapsi).reshape(split//timestep, timestep, input_dim)\n",
        "Yphithetapsi = array(dataYt[0::timestep])\n",
        "print(\"Xphithetapsi shape\",Xphithetapsi.shape)\n",
        "print(\"Yphithetapsi shape\",Yphithetapsi.shape)"
      ],
      "execution_count": 16,
      "outputs": [
        {
          "output_type": "stream",
          "name": "stdout",
          "text": [
            "input_dim: 45\n",
            "\n",
            "Training Testing\n",
            "373492 93374\n",
            "Xphithetapsi shape (373492, 1, 45)\n",
            "Yphithetapsi shape (373492,)\n"
          ]
        }
      ]
    },
    {
      "cell_type": "markdown",
      "metadata": {
        "id": "LyM9itIC6Pal"
      },
      "source": [
        "## **Model desing and Training**"
      ]
    },
    {
      "cell_type": "code",
      "metadata": {
        "id": "sztIaWSlPcD4",
        "outputId": "6085db50-1092-4e59-af2f-e67a26b1d8e7",
        "colab": {
          "base_uri": "https://localhost:8080/",
          "height": 784
        }
      },
      "source": [
        "inputs = Input(name='inputs',shape=[timestep,input_dim])\n",
        "layer = LSTM(50, return_sequences=True)(inputs)\n",
        "layer = Dropout(0.25)(layer)\n",
        "layer = LSTM(20)(layer)\n",
        "outputs = Dense(3, activation='linear')(layer)\n",
        "\n",
        "modelphithetapsi1 = Model(inputs=[inputs],outputs=[outputs])\n",
        "\n",
        "# Compile\n",
        "modelphithetapsi1.compile(optimizer='RMSprop', loss='mean_squared_error',metrics = ['accuracy'])\n",
        "modelphithetapsi1.summary()\n",
        "\n",
        "history = modelphithetapsi1.fit(Xphithetapsi, Yphithetapsi,\n",
        "                       epochs=20,\n",
        "                       verbose=0,\n",
        "                       batch_size=50)\n",
        "\n",
        "print('Model Training done')"
      ],
      "execution_count": 15,
      "outputs": [
        {
          "output_type": "display_data",
          "data": {
            "text/plain": [
              "\u001b[1mModel: \"functional\"\u001b[0m\n"
            ],
            "text/html": [
              "<pre style=\"white-space:pre;overflow-x:auto;line-height:normal;font-family:Menlo,'DejaVu Sans Mono',consolas,'Courier New',monospace\"><span style=\"font-weight: bold\">Model: \"functional\"</span>\n",
              "</pre>\n"
            ]
          },
          "metadata": {}
        },
        {
          "output_type": "display_data",
          "data": {
            "text/plain": [
              "┏━━━━━━━━━━━━━━━━━━━━━━━━━━━━━━━━━━━━━━┳━━━━━━━━━━━━━━━━━━━━━━━━━━━━━┳━━━━━━━━━━━━━━━━━┓\n",
              "┃\u001b[1m \u001b[0m\u001b[1mLayer (type)                        \u001b[0m\u001b[1m \u001b[0m┃\u001b[1m \u001b[0m\u001b[1mOutput Shape               \u001b[0m\u001b[1m \u001b[0m┃\u001b[1m \u001b[0m\u001b[1m        Param #\u001b[0m\u001b[1m \u001b[0m┃\n",
              "┡━━━━━━━━━━━━━━━━━━━━━━━━━━━━━━━━━━━━━━╇━━━━━━━━━━━━━━━━━━━━━━━━━━━━━╇━━━━━━━━━━━━━━━━━┩\n",
              "│ inputs (\u001b[38;5;33mInputLayer\u001b[0m)                  │ (\u001b[38;5;45mNone\u001b[0m, \u001b[38;5;34m2\u001b[0m, \u001b[38;5;34m45\u001b[0m)               │               \u001b[38;5;34m0\u001b[0m │\n",
              "├──────────────────────────────────────┼─────────────────────────────┼─────────────────┤\n",
              "│ lstm (\u001b[38;5;33mLSTM\u001b[0m)                          │ (\u001b[38;5;45mNone\u001b[0m, \u001b[38;5;34m2\u001b[0m, \u001b[38;5;34m50\u001b[0m)               │          \u001b[38;5;34m19,200\u001b[0m │\n",
              "├──────────────────────────────────────┼─────────────────────────────┼─────────────────┤\n",
              "│ dropout (\u001b[38;5;33mDropout\u001b[0m)                    │ (\u001b[38;5;45mNone\u001b[0m, \u001b[38;5;34m2\u001b[0m, \u001b[38;5;34m50\u001b[0m)               │               \u001b[38;5;34m0\u001b[0m │\n",
              "├──────────────────────────────────────┼─────────────────────────────┼─────────────────┤\n",
              "│ lstm_1 (\u001b[38;5;33mLSTM\u001b[0m)                        │ (\u001b[38;5;45mNone\u001b[0m, \u001b[38;5;34m20\u001b[0m)                  │           \u001b[38;5;34m5,680\u001b[0m │\n",
              "├──────────────────────────────────────┼─────────────────────────────┼─────────────────┤\n",
              "│ dense (\u001b[38;5;33mDense\u001b[0m)                        │ (\u001b[38;5;45mNone\u001b[0m, \u001b[38;5;34m3\u001b[0m)                   │              \u001b[38;5;34m63\u001b[0m │\n",
              "└──────────────────────────────────────┴─────────────────────────────┴─────────────────┘\n"
            ],
            "text/html": [
              "<pre style=\"white-space:pre;overflow-x:auto;line-height:normal;font-family:Menlo,'DejaVu Sans Mono',consolas,'Courier New',monospace\">┏━━━━━━━━━━━━━━━━━━━━━━━━━━━━━━━━━━━━━━┳━━━━━━━━━━━━━━━━━━━━━━━━━━━━━┳━━━━━━━━━━━━━━━━━┓\n",
              "┃<span style=\"font-weight: bold\"> Layer (type)                         </span>┃<span style=\"font-weight: bold\"> Output Shape                </span>┃<span style=\"font-weight: bold\">         Param # </span>┃\n",
              "┡━━━━━━━━━━━━━━━━━━━━━━━━━━━━━━━━━━━━━━╇━━━━━━━━━━━━━━━━━━━━━━━━━━━━━╇━━━━━━━━━━━━━━━━━┩\n",
              "│ inputs (<span style=\"color: #0087ff; text-decoration-color: #0087ff\">InputLayer</span>)                  │ (<span style=\"color: #00d7ff; text-decoration-color: #00d7ff\">None</span>, <span style=\"color: #00af00; text-decoration-color: #00af00\">2</span>, <span style=\"color: #00af00; text-decoration-color: #00af00\">45</span>)               │               <span style=\"color: #00af00; text-decoration-color: #00af00\">0</span> │\n",
              "├──────────────────────────────────────┼─────────────────────────────┼─────────────────┤\n",
              "│ lstm (<span style=\"color: #0087ff; text-decoration-color: #0087ff\">LSTM</span>)                          │ (<span style=\"color: #00d7ff; text-decoration-color: #00d7ff\">None</span>, <span style=\"color: #00af00; text-decoration-color: #00af00\">2</span>, <span style=\"color: #00af00; text-decoration-color: #00af00\">50</span>)               │          <span style=\"color: #00af00; text-decoration-color: #00af00\">19,200</span> │\n",
              "├──────────────────────────────────────┼─────────────────────────────┼─────────────────┤\n",
              "│ dropout (<span style=\"color: #0087ff; text-decoration-color: #0087ff\">Dropout</span>)                    │ (<span style=\"color: #00d7ff; text-decoration-color: #00d7ff\">None</span>, <span style=\"color: #00af00; text-decoration-color: #00af00\">2</span>, <span style=\"color: #00af00; text-decoration-color: #00af00\">50</span>)               │               <span style=\"color: #00af00; text-decoration-color: #00af00\">0</span> │\n",
              "├──────────────────────────────────────┼─────────────────────────────┼─────────────────┤\n",
              "│ lstm_1 (<span style=\"color: #0087ff; text-decoration-color: #0087ff\">LSTM</span>)                        │ (<span style=\"color: #00d7ff; text-decoration-color: #00d7ff\">None</span>, <span style=\"color: #00af00; text-decoration-color: #00af00\">20</span>)                  │           <span style=\"color: #00af00; text-decoration-color: #00af00\">5,680</span> │\n",
              "├──────────────────────────────────────┼─────────────────────────────┼─────────────────┤\n",
              "│ dense (<span style=\"color: #0087ff; text-decoration-color: #0087ff\">Dense</span>)                        │ (<span style=\"color: #00d7ff; text-decoration-color: #00d7ff\">None</span>, <span style=\"color: #00af00; text-decoration-color: #00af00\">3</span>)                   │              <span style=\"color: #00af00; text-decoration-color: #00af00\">63</span> │\n",
              "└──────────────────────────────────────┴─────────────────────────────┴─────────────────┘\n",
              "</pre>\n"
            ]
          },
          "metadata": {}
        },
        {
          "output_type": "display_data",
          "data": {
            "text/plain": [
              "\u001b[1m Total params: \u001b[0m\u001b[38;5;34m24,943\u001b[0m (97.43 KB)\n"
            ],
            "text/html": [
              "<pre style=\"white-space:pre;overflow-x:auto;line-height:normal;font-family:Menlo,'DejaVu Sans Mono',consolas,'Courier New',monospace\"><span style=\"font-weight: bold\"> Total params: </span><span style=\"color: #00af00; text-decoration-color: #00af00\">24,943</span> (97.43 KB)\n",
              "</pre>\n"
            ]
          },
          "metadata": {}
        },
        {
          "output_type": "display_data",
          "data": {
            "text/plain": [
              "\u001b[1m Trainable params: \u001b[0m\u001b[38;5;34m24,943\u001b[0m (97.43 KB)\n"
            ],
            "text/html": [
              "<pre style=\"white-space:pre;overflow-x:auto;line-height:normal;font-family:Menlo,'DejaVu Sans Mono',consolas,'Courier New',monospace\"><span style=\"font-weight: bold\"> Trainable params: </span><span style=\"color: #00af00; text-decoration-color: #00af00\">24,943</span> (97.43 KB)\n",
              "</pre>\n"
            ]
          },
          "metadata": {}
        },
        {
          "output_type": "display_data",
          "data": {
            "text/plain": [
              "\u001b[1m Non-trainable params: \u001b[0m\u001b[38;5;34m0\u001b[0m (0.00 B)\n"
            ],
            "text/html": [
              "<pre style=\"white-space:pre;overflow-x:auto;line-height:normal;font-family:Menlo,'DejaVu Sans Mono',consolas,'Courier New',monospace\"><span style=\"font-weight: bold\"> Non-trainable params: </span><span style=\"color: #00af00; text-decoration-color: #00af00\">0</span> (0.00 B)\n",
              "</pre>\n"
            ]
          },
          "metadata": {}
        },
        {
          "output_type": "error",
          "ename": "UnimplementedError",
          "evalue": "Graph execution error:\n\nDetected at node Cast_1 defined at (most recent call last):\n<stack traces unavailable>\n2 root error(s) found.\n  (0) UNIMPLEMENTED:  Cast string to float is not supported\n\t [[{{node Cast_1}}]]\n  (1) CANCELLED:  Function was cancelled before it was started\n0 successful operations.\n0 derived errors ignored. [Op:__inference_one_step_on_iterator_2096]",
          "traceback": [
            "\u001b[0;31m---------------------------------------------------------------------------\u001b[0m",
            "\u001b[0;31mUnimplementedError\u001b[0m                        Traceback (most recent call last)",
            "\u001b[0;32m<ipython-input-15-f8463daace1a>\u001b[0m in \u001b[0;36m<cell line: 13>\u001b[0;34m()\u001b[0m\n\u001b[1;32m     11\u001b[0m \u001b[0mmodelphithetapsi1\u001b[0m\u001b[0;34m.\u001b[0m\u001b[0msummary\u001b[0m\u001b[0;34m(\u001b[0m\u001b[0;34m)\u001b[0m\u001b[0;34m\u001b[0m\u001b[0;34m\u001b[0m\u001b[0m\n\u001b[1;32m     12\u001b[0m \u001b[0;34m\u001b[0m\u001b[0m\n\u001b[0;32m---> 13\u001b[0;31m history = modelphithetapsi1.fit(Xphithetapsi, Yphithetapsi,\n\u001b[0m\u001b[1;32m     14\u001b[0m                        \u001b[0mepochs\u001b[0m\u001b[0;34m=\u001b[0m\u001b[0;36m20\u001b[0m\u001b[0;34m,\u001b[0m\u001b[0;34m\u001b[0m\u001b[0;34m\u001b[0m\u001b[0m\n\u001b[1;32m     15\u001b[0m                        \u001b[0mverbose\u001b[0m\u001b[0;34m=\u001b[0m\u001b[0;36m0\u001b[0m\u001b[0;34m,\u001b[0m\u001b[0;34m\u001b[0m\u001b[0;34m\u001b[0m\u001b[0m\n",
            "\u001b[0;32m/usr/local/lib/python3.10/dist-packages/keras/src/utils/traceback_utils.py\u001b[0m in \u001b[0;36merror_handler\u001b[0;34m(*args, **kwargs)\u001b[0m\n\u001b[1;32m    120\u001b[0m             \u001b[0;31m# To get the full stack trace, call:\u001b[0m\u001b[0;34m\u001b[0m\u001b[0;34m\u001b[0m\u001b[0m\n\u001b[1;32m    121\u001b[0m             \u001b[0;31m# `keras.config.disable_traceback_filtering()`\u001b[0m\u001b[0;34m\u001b[0m\u001b[0;34m\u001b[0m\u001b[0m\n\u001b[0;32m--> 122\u001b[0;31m             \u001b[0;32mraise\u001b[0m \u001b[0me\u001b[0m\u001b[0;34m.\u001b[0m\u001b[0mwith_traceback\u001b[0m\u001b[0;34m(\u001b[0m\u001b[0mfiltered_tb\u001b[0m\u001b[0;34m)\u001b[0m \u001b[0;32mfrom\u001b[0m \u001b[0;32mNone\u001b[0m\u001b[0;34m\u001b[0m\u001b[0;34m\u001b[0m\u001b[0m\n\u001b[0m\u001b[1;32m    123\u001b[0m         \u001b[0;32mfinally\u001b[0m\u001b[0;34m:\u001b[0m\u001b[0;34m\u001b[0m\u001b[0;34m\u001b[0m\u001b[0m\n\u001b[1;32m    124\u001b[0m             \u001b[0;32mdel\u001b[0m \u001b[0mfiltered_tb\u001b[0m\u001b[0;34m\u001b[0m\u001b[0;34m\u001b[0m\u001b[0m\n",
            "\u001b[0;32m/usr/local/lib/python3.10/dist-packages/tensorflow/python/eager/execute.py\u001b[0m in \u001b[0;36mquick_execute\u001b[0;34m(op_name, num_outputs, inputs, attrs, ctx, name)\u001b[0m\n\u001b[1;32m     51\u001b[0m   \u001b[0;32mtry\u001b[0m\u001b[0;34m:\u001b[0m\u001b[0;34m\u001b[0m\u001b[0;34m\u001b[0m\u001b[0m\n\u001b[1;32m     52\u001b[0m     \u001b[0mctx\u001b[0m\u001b[0;34m.\u001b[0m\u001b[0mensure_initialized\u001b[0m\u001b[0;34m(\u001b[0m\u001b[0;34m)\u001b[0m\u001b[0;34m\u001b[0m\u001b[0;34m\u001b[0m\u001b[0m\n\u001b[0;32m---> 53\u001b[0;31m     tensors = pywrap_tfe.TFE_Py_Execute(ctx._handle, device_name, op_name,\n\u001b[0m\u001b[1;32m     54\u001b[0m                                         inputs, attrs, num_outputs)\n\u001b[1;32m     55\u001b[0m   \u001b[0;32mexcept\u001b[0m \u001b[0mcore\u001b[0m\u001b[0;34m.\u001b[0m\u001b[0m_NotOkStatusException\u001b[0m \u001b[0;32mas\u001b[0m \u001b[0me\u001b[0m\u001b[0;34m:\u001b[0m\u001b[0;34m\u001b[0m\u001b[0;34m\u001b[0m\u001b[0m\n",
            "\u001b[0;31mUnimplementedError\u001b[0m: Graph execution error:\n\nDetected at node Cast_1 defined at (most recent call last):\n<stack traces unavailable>\n2 root error(s) found.\n  (0) UNIMPLEMENTED:  Cast string to float is not supported\n\t [[{{node Cast_1}}]]\n  (1) CANCELLED:  Function was cancelled before it was started\n0 successful operations.\n0 derived errors ignored. [Op:__inference_one_step_on_iterator_2096]"
          ]
        }
      ]
    },
    {
      "cell_type": "markdown",
      "metadata": {
        "id": "6gw7bVi86ydd"
      },
      "source": [
        "## **Offline Predictions**"
      ]
    },
    {
      "cell_type": "code",
      "metadata": {
        "id": "MB5T9kqL6xvu",
        "outputId": "a7d80c65-9dbc-4830-9b29-d29326e25792",
        "colab": {
          "base_uri": "https://localhost:8080/"
        }
      },
      "source": [
        "results = []\n",
        "Xtestt = dataXv[:-1]\n",
        "Ytest = dataYv[:-1]\n",
        "\n",
        "Ytest = array(Ytest[1::timestep])\n",
        "Xtest = array(Xtestt[:,0:9])\n",
        "\n",
        "test_input = np.column_stack((Xtest,Xtestt[:,9:12]))\n",
        "ip = array(test_input).reshape(test_input.shape[0]//timestep, timestep, input_dim)\n",
        "test_output = modelphithetapsi1.predict(ip)\n",
        "test_output = array(test_output)\n",
        "\n",
        "results = np.array(test_output)\n",
        "results = results.reshape(test_input.shape[0]//timestep,3)\n",
        "print(results.shape)"
      ],
      "execution_count": null,
      "outputs": [
        {
          "output_type": "stream",
          "name": "stdout",
          "text": [
            "(7218, 9)\n",
            "(7218, 3)\n",
            "113/113 [==============================] - 1s 2ms/step\n",
            "(3609, 3)\n"
          ]
        }
      ]
    },
    {
      "cell_type": "markdown",
      "metadata": {
        "id": "OD3ckxkE6Zc9"
      },
      "source": [
        "## **Incremental Learning Model**"
      ]
    },
    {
      "cell_type": "code",
      "metadata": {
        "id": "s8kP-sdrQTmy"
      },
      "source": [
        "# new model for incremental learning\n",
        "model = Model(inputs=[inputs],outputs=[outputs])\n",
        "model.compile(optimizer='RMSprop', loss='mean_squared_error',metrics = ['accuracy'])\n",
        "model.summary()\n",
        "#copy weights\n",
        "Wsave = modelphithetapsi1.get_weights()\n",
        "model.set_weights(Wsave)\n",
        "\n",
        "wgt = model.get_weights()\n",
        "print(wgt[1])"
      ],
      "execution_count": null,
      "outputs": []
    },
    {
      "cell_type": "code",
      "metadata": {
        "id": "2zPbD982QT-v"
      },
      "source": [
        "result = []\n",
        "stepinit = 3000\n",
        "araya = [stepinit, stepinit,stepinit, stepinit, stepinit, stepinit, stepinit, stepinit]\n",
        "for j in range(0,array(araya).shape[0]):\n",
        "    XtestA = []\n",
        "    step = araya[j]\n",
        "    pt = stepinit*j\n",
        "    Xtestt = dataXv[pt:pt+step]\n",
        "    Ytest = dataYv[pt:pt+step]\n",
        "    Ytest = array(Ytest[0::timestep])\n",
        "    Xtest = array(Xtestt[:,0:9])\n",
        "\n",
        "    test_input = np.column_stack((Xtest,Xtestt[:,9:12]))\n",
        "    XtestA = test_input\n",
        "    ip = array(XtestA).reshape(step//timestep, timestep, input_dim)\n",
        "    test_output = model.predict(ip)\n",
        "    test_output = array(test_output)\n",
        "    result.append(test_output)\n",
        "    Xtest1 = ip\n",
        "\n",
        "    wgt = model.get_weights()\n",
        "#     print(wgt[1])\n",
        "    start = time.time()\n",
        "    history = model.fit(Xtest1, Ytest,\n",
        "                            epochs=20,\n",
        "                            verbose=0,\n",
        "                            batch_size=50)\n",
        "    end = time.time()\n",
        "    print(end - start)\n",
        "result = np.array(result)\n",
        "result = result.reshape((stepinit*array(araya).shape[0]//timestep,3))\n",
        "print(result.shape)\n",
        "\n",
        "result1 = []\n",
        "XtestA = []\n",
        "step = (data.shape[0]-split)-stepinit*array(araya).shape[0]\n",
        "pt = stepinit*array(araya).shape[0]\n",
        "Xtestt = dataXv[pt:pt+step]\n",
        "Ytest = dataYv[pt:pt+step]\n",
        "Ytest = array(Ytest[1::timestep])\n",
        "Xtest = array(Xtestt[:,0:9])\n",
        "\n",
        "test_input = np.column_stack((Xtest,Xtestt[:,9:12]))\n",
        "ip = array(test_input).reshape(step//timestep, timestep, input_dim)\n",
        "test_output = model.predict(ip)\n",
        "test_output = array(test_output)\n",
        "result1.append(test_output)\n",
        "\n",
        "result1 = np.array(result1)\n",
        "result1 = result1.reshape(test_input.shape[0]//timestep,3)\n",
        "print(result1.shape)"
      ],
      "execution_count": null,
      "outputs": []
    },
    {
      "cell_type": "code",
      "metadata": {
        "id": "JBczpCC1mvGO"
      },
      "source": [
        "print(result.shape)\n",
        "print(result1.shape)\n",
        "\n",
        "results = np.vstack((result,result1))\n",
        "print(results.shape)"
      ],
      "execution_count": null,
      "outputs": []
    },
    {
      "cell_type": "markdown",
      "metadata": {
        "id": "zVfTzlAc6jJ9"
      },
      "source": [
        "## **Compute RMSE and Print Results**"
      ]
    },
    {
      "cell_type": "code",
      "metadata": {
        "id": "CtvyLY9Xmw6C"
      },
      "source": [
        "Yt1 = dataYv\n",
        "Yt = array(Yt1[0::timestep])\n",
        "test_output = np.array(results)\n",
        "test_output = test_output.reshape((Yt.shape[0],3))\n",
        "\n",
        "\n",
        "from sklearn.metrics import mean_squared_error\n",
        "from math import sqrt\n",
        "rmsephi = sqrt(mean_squared_error(Yt[:,0], test_output[:,0]))\n",
        "print(\"RMSE phi\",rmsephi)\n",
        "\n",
        "rmsetheta = sqrt(mean_squared_error(Yt[:,1], test_output[:,1]))\n",
        "print(\"RMSE theta\",rmsetheta)\n",
        "\n",
        "rmsepsi = sqrt(mean_squared_error(Yt[:,2], test_output[:,2]))\n",
        "print(\"RMSE phi\",rmsepsi)\n",
        "\n",
        "print(rmsephi,rmsetheta,rmsepsi)\n",
        "\n",
        "plt.plot(Yt[:,0])\n",
        "plt.plot(test_output[:,0])\n",
        "plt.title('Phi/Roll')\n",
        "plt.xlabel('samples')\n",
        "plt.ylabel('Roll angle')\n",
        "plt.legend(['Reference', 'Predicted'], loc = 'upper right')\n",
        "plt.show()\n",
        "\n",
        "plt.plot(Yt[:,1])\n",
        "plt.plot(test_output[:,1])\n",
        "plt.title('Theta/Pitch')\n",
        "plt.xlabel('samples')\n",
        "plt.ylabel('Pitch angle')\n",
        "plt.legend(['Reference', 'Predicted'], loc = 'upper right')\n",
        "plt.show()\n",
        "\n",
        "plt.plot(Yt[:,2])\n",
        "plt.plot(test_output[:,2])\n",
        "plt.title('Psi/Yaw')\n",
        "plt.xlabel('samples')\n",
        "plt.ylabel('Yaw angle')\n",
        "plt.legend(['Reference', 'Predicted'], loc = 'upper right')\n",
        "plt.show()\n"
      ],
      "execution_count": null,
      "outputs": []
    }
  ]
}